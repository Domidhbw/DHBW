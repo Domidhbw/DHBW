{
 "cells": [
  {
   "cell_type": "markdown",
   "metadata": {},
   "source": [
    "Here are some loops:\n",
    "First loop is a for loop"
   ]
  },
  {
   "cell_type": "code",
   "execution_count": 1,
   "metadata": {},
   "outputs": [
    {
     "name": "stdout",
     "output_type": "stream",
     "text": [
      ".\n",
      ".\n",
      ".\n",
      ".\n",
      ".\n",
      ".\n",
      ".\n",
      ".\n",
      ".\n",
      ".\n"
     ]
    }
   ],
   "source": [
    "for x in range(10):\n",
    "    print('.')"
   ]
  },
  {
   "cell_type": "markdown",
   "metadata": {},
   "source": [
    "You can also let a for loop iterate over a word:"
   ]
  },
  {
   "cell_type": "code",
   "execution_count": 2,
   "metadata": {},
   "outputs": [
    {
     "name": "stdout",
     "output_type": "stream",
     "text": [
      "h\n",
      "e\n",
      "l\n",
      "l\n",
      "o\n",
      " \n",
      "w\n",
      "o\n",
      "r\n",
      "l\n",
      "d\n"
     ]
    }
   ],
   "source": [
    "word = 'hello world'\n",
    "for x in word:\n",
    "    print(x)"
   ]
  },
  {
   "cell_type": "markdown",
   "metadata": {},
   "source": [
    "This is a while loop:"
   ]
  },
  {
   "cell_type": "code",
   "execution_count": 3,
   "metadata": {},
   "outputs": [
    {
     "name": "stdout",
     "output_type": "stream",
     "text": [
      "0\n",
      "1\n",
      "2\n",
      "3\n",
      "4\n",
      "5\n",
      "6\n",
      "7\n",
      "8\n",
      "9\n",
      "10\n",
      "player alive\n",
      "player alive\n",
      "player alive\n",
      "player alive\n",
      "player alive\n",
      "player alive\n",
      "player alive\n",
      "player alive\n",
      "player alive\n",
      "player alive\n",
      "player alive\n",
      "player alive\n",
      "player alive\n",
      "player alive\n",
      "player alive\n",
      "player alive\n",
      "player alive\n",
      "player alive\n",
      "player alive\n",
      "player alive\n",
      "player dead\n"
     ]
    }
   ],
   "source": [
    "i = 0\n",
    "while i <= 10:\n",
    "    print(i)\n",
    "    i += 1\n",
    "    \n",
    "health = 20\n",
    "while health > 0:\n",
    "   health -= 1\n",
    "   print('player alive')\n",
    "print('player dead')\n"
   ]
  },
  {
   "cell_type": "code",
   "execution_count": 1,
   "metadata": {},
   "outputs": [
    {
     "name": "stdout",
     "output_type": "stream",
     "text": [
      "               \n",
      "              ||\n",
      "             ||||\n",
      "            ||||||\n",
      "           ||||||||\n",
      "          ||||||||||\n",
      "         ||||||||||||\n",
      "        ||||||||||||||\n",
      "       ||||||||||||||||\n",
      "      ||||||||||||||||||\n",
      "     ||||||||||||||||||||\n",
      "    ||||||||||||||||||||||\n",
      "   ||||||||||||||||||||||||\n",
      "  ||||||||||||||||||||||||||\n",
      " ||||||||||||||||||||||||||||\n",
      "              ||\n",
      "              ||\n",
      "              ||\n",
      "              ||\n",
      "              ||\n"
     ]
    }
   ],
   "source": [
    "i = 15\n",
    "x = i\n",
    "sp = ' '\n",
    "draw = '|'\n",
    "for drawing in range(i):\n",
    "    print(sp * x + (draw * drawing) * 2)\n",
    "    x-=1\n",
    "for s in range(int(i/3)):\n",
    "    print(sp * (i-1) + draw *2)"
   ]
  },
  {
   "cell_type": "code",
   "execution_count": 9,
   "metadata": {},
   "outputs": [
    {
     "name": "stdout",
     "output_type": "stream",
     "text": [
      "                  \n",
      "x                o\n",
      "xx              oo\n",
      "xxx            ooo\n",
      "xxxx          oooo\n",
      "xxxxx        ooooo\n",
      "xxxxxx      oooooo\n",
      "xxxxx        ooooo\n",
      "xxxx          oooo\n",
      "xxx            ooo\n",
      "xx              oo\n",
      "x                o\n"
     ]
    }
   ],
   "source": [
    "size = 6\n",
    "j = size*3\n",
    "\n",
    "x = \"x\"\n",
    "o = \"o\"\n",
    "space = \" \"\n",
    "\n",
    "for i in range(size):\n",
    "    print(x*i + (space*j) + o*i)\n",
    "    j -= 2\n",
    "    if i == (size-1):\n",
    "        for k in range(size):\n",
    "            print(x*(size-k) + space*j + o*(size-k))\n",
    "            j += 2"
   ]
  }
 ],
 "metadata": {
  "kernelspec": {
   "display_name": "Python 3 (ipykernel)",
   "language": "python",
   "name": "python3"
  },
  "language_info": {
   "codemirror_mode": {
    "name": "ipython",
    "version": 3
   },
   "file_extension": ".py",
   "mimetype": "text/x-python",
   "name": "python",
   "nbconvert_exporter": "python",
   "pygments_lexer": "ipython3",
   "version": "3.9.13"
  }
 },
 "nbformat": 4,
 "nbformat_minor": 4
}
